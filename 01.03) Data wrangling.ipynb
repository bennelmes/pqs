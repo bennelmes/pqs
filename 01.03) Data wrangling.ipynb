{
 "cells": [
  {
   "cell_type": "markdown",
   "metadata": {},
   "source": [
    "### Tracking PQs topics\n",
    "\n",
    "This notebook explores ways of tracking and analysing the topics that are the subject of PQs by MPs and Peers"
   ]
  },
  {
   "cell_type": "code",
   "execution_count": 8,
   "metadata": {},
   "outputs": [],
   "source": [
    "import requests\n",
    "import json\n",
    "import pandas as pd\n",
    "import numpy as np\n",
    "import glob\n",
    "from tqdm import tqdm\n",
    "tqdm.pandas()\n",
    "import os\n",
    "from datetime import datetime, timedelta\n",
    "import seaborn as sns\n",
    "from matplotlib import pyplot as plt\n",
    "import re"
   ]
  },
  {
   "cell_type": "markdown",
   "metadata": {
    "tags": []
   },
   "source": [
    "#### Import and clean up data\n",
    "\n",
    "We'll import some data on MPs, so that - if we want to - we can find out more about who is asking about what. Then we'll import all PQs (unanswered & answered). \n",
    "\n",
    "We clean up the PQs data, too. "
   ]
  },
  {
   "cell_type": "code",
   "execution_count": 9,
   "metadata": {},
   "outputs": [],
   "source": [
    "active_p = pd.read_csv('active_members.csv')\n",
    "former_p = pd.read_csv('former_members.csv')\n",
    "\n",
    "all_p = pd.concat([active_p, former_p])\n",
    "all_p = all_p[['id', 'nameListAs', 'gender', 'latestPartyabbreviation']]\n",
    "\n",
    "id_party_dict = dict(zip(all_p.id, all_p.latestPartyabbreviation))"
   ]
  },
  {
   "cell_type": "code",
   "execution_count": 10,
   "metadata": {},
   "outputs": [
    {
     "name": "stderr",
     "output_type": "stream",
     "text": [
      "100%|███████████████████████████████████████████████████████████████████████████████████████████████████████████████████████████████████████████████████████| 385658/385658 [00:00<00:00, 1408613.21it/s]\n",
      "100%|███████████████████████████████████████████████████████████████████████████████████████████████████████████████████████████████████████████████████████| 385658/385658 [00:00<00:00, 1522448.85it/s]\n",
      "100%|███████████████████████████████████████████████████████████████████████████████████████████████████████████████████████████████████████████████████████| 385658/385658 [00:00<00:00, 1161905.79it/s]\n",
      "100%|███████████████████████████████████████████████████████████████████████████████████████████████████████████████████████████████████████████████████████| 385658/385658 [00:00<00:00, 1343606.81it/s]\n"
     ]
    }
   ],
   "source": [
    "wpqs = pd.read_csv('tmp/ua_pqs.csv')\n",
    "wpqs['dateTabled'] = pd.to_datetime(wpqs.dateTabled)\n",
    "wpqs['heading'] = wpqs.heading.fillna('')\n",
    "# wpqs = wpqs[['id', 'askingMemberId', 'askingMember', 'house', 'dateTabled', 'questionText', 'answeringBodyName', 'heading']]\n",
    "\n",
    "# Populate a column with party appreviation in the WPQs database\n",
    "wpqs['latestPartyabbreviation'] = wpqs.askingMemberId.progress_apply(lambda x: id_party_dict[x] if x in id_party_dict.keys() else 'n/a')\n",
    "\n",
    "# Make some of the string fields lower case to improve comparability and searchability\n",
    "wpqs['heading'] = wpqs.heading.progress_apply(lambda x: x.lower())\n",
    "wpqs['questionText'] = wpqs.questionText.progress_apply(lambda x: x.lower())\n",
    "\n",
    "# Sometime the heading is a generic topic, other times it's specified by a \":\" symbol. We'll extract this into a 'topic' column.\n",
    "wpqs['topic'] = wpqs.heading.progress_apply(lambda x: x.split(':')[0])\n",
    "\n",
    "wpqs['year_month'] = wpqs.dateTabled.dt.to_period('M')"
   ]
  },
  {
   "cell_type": "code",
   "execution_count": 11,
   "metadata": {},
   "outputs": [
    {
     "name": "stderr",
     "output_type": "stream",
     "text": [
      "100%|████████████████████████████████████████████████████████████████████████████████████████████████████████████████████████████████████████████████████████| 385658/385658 [00:03<00:00, 124671.20it/s]\n"
     ]
    }
   ],
   "source": [
    "# Cleaning up the question text\n",
    "\n",
    "# Aim: to get the bit of text after the 'to ask the secretary of state for blah blah, if...'\n",
    "\n",
    "def question_cleaner(question):\n",
    "    q = re.sub(r',(?=\\S)|:', ', ', question)\n",
    "    q = q.replace(\"to ask her majesty's government \", \"to ask her majesty's government, \").replace(\"to ask her majesty’s government \", \"to ask her majesty's government, \")\n",
    "    q = q.replace(', and', ' and').replace('foreign, commonwealth and development affairs', 'foreign commonwealth and development affairs').replace('digital, culture, media', 'digital culture media').replace('business, energy and industrial', 'business energy and industrial')\n",
    "    q = q.replace('levelling up, housing and', 'levelling up housing and').replace('environment, food and rural affairs', 'environment food and rural affairs').replace('culture, media and sport', 'culture media and sport').replace('business, innovation and skills', 'business innovation and skills')\n",
    "    q = q.replace('digital, culture, media and sport', 'digital culture media and sport')\n",
    "    q = q.replace('housing, communities and local government', 'housing communities and local government')\n",
    "    q = q.replace(', representing the church commissioners', ' representing the church commissioners, ') \n",
    "    q = q.replace('to ask the chairman of committees ', 'to ask the chairman of committees, ')\n",
    "    q = q.replace('to ask the leader of the house ', 'to ask the leader of the house, ')\n",
    "    q = q.replace(\"to ask her majesty’s government\", \"to ask her majesty's government, \")\n",
    "    q = q.replace(\"to ask the senior deputy speaker \", \"to ask the senior deputy speaker, \")\n",
    "    q = q.replace(\"her majesty's government \", \"her majesty's government, \")\n",
    "    q = q.replace(\"to ask the secretary of state for education \", \"to ask the secretary of state for education, \")\n",
    "    q = q.replace(\"to ask the secretary of state for defence \", \"to ask the secretary of state for defence, \")\n",
    "    q = q.replace(\"to ask the secretary of state for work and pensions \", \"to ask the secretary of state for work and pensions, \")\n",
    "    q = q.replace(\"to ask the secretary of state for environment food and rural affairs \", \"to ask the secretary of state for environment food and rural affairs, \")\n",
    "    q = q.replace(\"to ask the secretary of state for health \", \"to ask the secretary of state for health, \")\n",
    "    q = q.replace(\"foreign and commonwealth affairs \", \"foreign and commonwealth affairs, \")\n",
    "    q = q.replace(\"foreign commonwealth and development affairs \", \"foreign commonwealth and development affairs, \")\n",
    "    q = q.replace(\"the senior deputy speaker \", \"the senior deputy speaker, \")\n",
    "    q = q.replace(\"secretary of state for the home department,\", \"secretary of state for the home department, \")\n",
    "    q = q.replace(\"to ask mr chancellor of the exchequer \", \"to ask mr chancellor of the exchequer, \")\n",
    "    q = q.replace(\"to ask the minister of the cabinet office \", \"to ask the minister of the cabinet office, \")\n",
    "    q = q.replace(\"to ask the minister for the cabinet office \", \"to ask the minister for the cabinet office, \")\n",
    "    q = q.replace(\"to ask the secretary of state for communities and local government \", \"to ask the secretary of state for communities and local government, \")\n",
    "    q = ' '.join(q.split(', ')[1:])\n",
    "    cleaned_question = q\n",
    "    return cleaned_question\n",
    "\n",
    "wpqs['cleanedQuestion'] = wpqs.questionText.progress_apply(lambda x: question_cleaner(x))"
   ]
  },
  {
   "cell_type": "code",
   "execution_count": 12,
   "metadata": {},
   "outputs": [],
   "source": [
    "# def question_cleaner(question):\n",
    "#     q = re.sub(r',(?=\\S)|:', ', ', question)\n",
    "#     q = q.replace(\"to ask her majesty's government \", \"to ask her majesty's government, \").replace(\"to ask her majesty’s government \", \"to ask her majesty's government, \")\n",
    "#     q = q.replace(', and', ' and').replace('foreign, commonwealth and development affairs', 'foreign commonwealth and development affairs').replace('digital, culture, media', 'digital culture media').replace('business, energy and industrial', 'business energy and industrial')\n",
    "#     q = q.replace('levelling up, housing and', 'levelling up housing and').replace('environment, food and rural affairs', 'environment food and rural affairs').replace('culture, media and sport', 'culture media and sport').replace('business, innovation and skills', 'business innovation and skills')\n",
    "#     q = q.replace('digital, culture, media and sport', 'digital culture media and sport')\n",
    "#     q = q.replace('housing, communities and local government', 'housing communities and local government')\n",
    "#     q = q.replace(', representing the church commissioners', ' representing the church commissioners, ')\n",
    "#     q = q.replace('to ask the chairman of committees ', 'to ask the chairman of committees, ')\n",
    "#     q = q.replace('to ask the leader of the house ', 'to ask the leader of the house, ')\n",
    "#     q = q.replace(\"to ask her majesty’s government\", \"to ask her majesty's government, \")\n",
    "#     q = q.replace(\"to ask the senior deputy speaker \", \"to ask the senior deputy speaker, \")\n",
    "#     q = q.replace(\"her majesty's government \", \"her majesty's government, \")\n",
    "#     q = q.replace(\"to ask the secretary of state for education \", \"to ask the secretary of state for education, \")\n",
    "#     q = q.replace(\"to ask the secretary of state for defence \", \"to ask the secretary of state for defence, \")\n",
    "#     q = q.replace(\"to ask the secretary of state for work and pensions \", \"to ask the secretary of state for work and pensions, \")\n",
    "#     q = q.replace(\"to ask the secretary of state for environment food and rural affairs \", \"to ask the secretary of state for environment food and rural affairs, \")\n",
    "#     q = q.replace(\"to ask the secretary of state for health \", \"to ask the secretary of state for health, \")\n",
    "#     q = q.replace(\"foreign and commonwealth affairs \", \"foreign and commonwealth affairs, \")\n",
    "#     q = q.replace(\"foreign commonwealth and development affairs \", \"foreign commonwealth and development affairs, \")\n",
    "#     q = q.replace(\"the senior deputy speaker \", \"the senior deputy speaker, \")\n",
    "#     q = q.replace(\"secretary of state for the home department,\", \"secretary of state for the home department, \")\n",
    "#     q = q.replace(\"to ask mr chancellor of the exchequer \", \"to ask mr chancellor of the exchequer, \")\n",
    "#     q = q.replace(\"to ask the minister of the cabinet office \", \"to ask the minister of the cabinet office, \")\n",
    "#     q = q.replace(\"to ask the minister for the cabinet office \", \"to ask the minister for the cabinet office, \")\n",
    "#     q = q.replace(\"to ask the secretary of state for communities and local government \", \"to ask the secretary of state for communities and local government, \")\n",
    "#     q = ' '.join(q.split(', ')[:1]) # CHANGE ME TO GET THE SUBSTANCE OF THE QUESTION\n",
    "#     cleaned_question = q\n",
    "#     return cleaned_question\n",
    "\n",
    "# wpqs['dept'] = wpqs.questionText.progress_apply(lambda x: question_cleaner(x))"
   ]
  },
  {
   "cell_type": "code",
   "execution_count": 13,
   "metadata": {},
   "outputs": [],
   "source": [
    "# len(wpqs.dept.unique().tolist())"
   ]
  },
  {
   "cell_type": "code",
   "execution_count": 14,
   "metadata": {},
   "outputs": [],
   "source": [
    "wpqs.to_csv('cleaned.csv', index=False, index_label=False)"
   ]
  },
  {
   "cell_type": "markdown",
   "metadata": {},
   "source": [
    "#### Exploratory analysis\n",
    "\n",
    "Let's make a word cloud of a particular day's PQs. "
   ]
  }
 ],
 "metadata": {
  "interpreter": {
   "hash": "3b2671318a3efe4055efb57053d632fc866729572eb9ca426a28693e94fabcea"
  },
  "kernelspec": {
   "display_name": "Python 3 (ipykernel)",
   "language": "python",
   "name": "python3"
  },
  "language_info": {
   "codemirror_mode": {
    "name": "ipython",
    "version": 3
   },
   "file_extension": ".py",
   "mimetype": "text/x-python",
   "name": "python",
   "nbconvert_exporter": "python",
   "pygments_lexer": "ipython3",
   "version": "3.9.7"
  }
 },
 "nbformat": 4,
 "nbformat_minor": 4
}
