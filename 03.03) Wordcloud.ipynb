{
 "cells": [
  {
   "cell_type": "code",
   "execution_count": 1,
   "id": "9a221371-e2d3-4fc3-bcc6-0cb675474509",
   "metadata": {},
   "outputs": [],
   "source": [
    "import pandas as pd"
   ]
  },
  {
   "cell_type": "code",
   "execution_count": 2,
   "id": "8ef83f08-7f9c-4efa-a1ee-9455a278edba",
   "metadata": {},
   "outputs": [],
   "source": [
    "wpqs = pd.read_csv('cleaned.csv')"
   ]
  },
  {
   "cell_type": "markdown",
   "id": "aa22028c-8a44-4f97-8932-e3c98bf5c44a",
   "metadata": {},
   "source": [
    "### Let's make a wordcloud!"
   ]
  },
  {
   "cell_type": "code",
   "execution_count": null,
   "id": "f356f47c-f096-4c49-b96c-c8e7d3983f01",
   "metadata": {},
   "outputs": [],
   "source": [
    "# from wordcloud import WordCloud"
   ]
  },
  {
   "cell_type": "code",
   "execution_count": null,
   "id": "dac7bbfd-1b5f-4f2a-a2c6-ab9397d6ad74",
   "metadata": {},
   "outputs": [],
   "source": [
    "# # Set the date here\n",
    "\n",
    "# date = '2022-03-01'"
   ]
  },
  {
   "cell_type": "code",
   "execution_count": null,
   "id": "681a0894-3955-476b-83e5-3fcbdc9c6b2b",
   "metadata": {},
   "outputs": [],
   "source": [
    "# # Filter out the Lords, whose questions take a different format\n",
    "# wpqs_sel = wpqs[wpqs.house == 'Commons']\n",
    "\n",
    "# # Make a long string of all the questions. \n",
    "\n",
    "# # Each question starts in the form \"To ask the secretary of state for X, what [question text]\". We'll get the bit after the \"what, \"\n",
    "# question_text = wpqs_sel[wpqs_sel.dateTabled == date].cleanedQuestion.tolist()\n",
    "# # question_text = wpqs_sel[wpqs_sel.year_month == date].cleanedQuestion.tolist()\n",
    "    \n",
    "# # Clean out a few meaningless words that appear over and over\n",
    "# question_text = [x.replace('.', ' ').replace(' take ', ' ').replace('agencies remove', ' ').replace(' department ', ' ').replace('publish', '').replace(' government ', ' ').replace('pursuant', '').replace('question', '').replace('answer', '').replace('reference', '').replace(' effect ', ' ').replace(' make ', ' ').replace(' ensure ', ' ').replace('steps', '').replace(' assessment ', ' ').replace('taking', '').replace('made', '').replace('will', '') for x in question_text]\n",
    "# question_text = [x.replace('many', '').replace('whether', '').replace('(b)', '').replace('(a)', '') for x in question_text]\n",
    "# question_text = [x.replace('people', '').replace(' support ', ' ').replace(' s ', '').replace(' plans ', ' ').replace(' plan ', ' ') for x in question_text]\n",
    "# question_text = [x.replace(' application ', ' ').replace(' applications ', ' ').replace(' level ', ' ').replace(' help ', ' ').replace(' administration ', ' ').replace(' discussion ', ' ').replace(' service ', '').replace('communities', '').replace(' discussions ', '').replace(' impact ', '').replace('january', '').replace('february', '').replace(' uk ', ' ').replace('recent', '').replace(' estimate ', ' ').replace(' number ', ' ').replace(' c ', '') for x in question_text]\n",
    "# question_text = [x.replace(' programme ', ' ').replace('department', '').replace(' proportion ', ' ').replace(' department ', ' ').replace(' england ', ' ').replace('potential merits', ' ').replace(' national ', ' ').replace(' may ', ' ').replace(' statement ', ' ').replace(' year ', ' ').replace('(c)', ' ') for x in question_text]\n",
    "# question_text = [x.replace(' april ', ' ') for x in question_text]\n",
    "\n",
    "# long_string = ', '.join(question_text)"
   ]
  },
  {
   "cell_type": "code",
   "execution_count": null,
   "id": "46003a01-b3a6-4785-aa78-624cb1b2f3bd",
   "metadata": {},
   "outputs": [],
   "source": [
    "# wordcloud = WordCloud(\n",
    "#     background_color='white', \n",
    "#     max_words = 5000, \n",
    "#     contour_width=3, \n",
    "#     contour_color='steelblue', \n",
    "#     width = 1500, \n",
    "#     height=750\n",
    "# )"
   ]
  },
  {
   "cell_type": "code",
   "execution_count": null,
   "id": "cff49669-6708-4102-8c3d-ffc4cb52ad92",
   "metadata": {},
   "outputs": [],
   "source": [
    "# wordcloud.generate(long_string)\n",
    "# wordcloud.to_image()"
   ]
  }
 ],
 "metadata": {
  "kernelspec": {
   "display_name": "Python 3 (ipykernel)",
   "language": "python",
   "name": "python3"
  },
  "language_info": {
   "codemirror_mode": {
    "name": "ipython",
    "version": 3
   },
   "file_extension": ".py",
   "mimetype": "text/x-python",
   "name": "python",
   "nbconvert_exporter": "python",
   "pygments_lexer": "ipython3",
   "version": "3.10.2"
  }
 },
 "nbformat": 4,
 "nbformat_minor": 5
}
