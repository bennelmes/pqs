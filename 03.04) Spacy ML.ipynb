{
 "cells": [
  {
   "cell_type": "markdown",
   "id": "7326bc1e-f40d-43c8-8bdd-b14c68d82fd7",
   "metadata": {
    "jp-MarkdownHeadingCollapsed": true,
    "tags": []
   },
   "source": [
    "## SpaCy\n",
    "We're going to try to create a text classifier using Spacy to tag each PQ with a topic keyword. We want a mutli-classifier, i.e. PQs can have more than one tag. "
   ]
  },
  {
   "cell_type": "markdown",
   "id": "c878d0f6-0542-4ea8-92d6-58dc3b3a7663",
   "metadata": {},
   "source": [
    "## Exploring model training to recognise EV-related PQs."
   ]
  },
  {
   "cell_type": "code",
   "execution_count": 1,
   "id": "9e5e59b3-7d4b-427f-a898-d7fcdb4da38e",
   "metadata": {},
   "outputs": [],
   "source": [
    "import spacy\n",
    "from spacy.matcher import Matcher\n",
    "from spacy.tokens import Span\n",
    "from spacy import displacy\n",
    "from spacy.util import minibatch, compounding\n",
    "from tqdm import tqdm\n",
    "tqdm.pandas()\n",
    "import pandas as pd\n",
    "\n",
    "nlp = spacy.blank('en')\n",
    "matcher = Matcher(nlp.vocab)\n",
    "\n"
   ]
  },
  {
   "cell_type": "code",
   "execution_count": 2,
   "id": "f333b678-6641-4d81-92ad-cb802271ae53",
   "metadata": {},
   "outputs": [],
   "source": [
    "wpqs = pd.read_csv('cleaned.csv')\n",
    "wpqs['cleanedQuestion'].fillna('', inplace=True)\n",
    "wpqs['topic'].fillna('', inplace=True)"
   ]
  },
  {
   "cell_type": "code",
   "execution_count": 3,
   "id": "617908ab-c679-46d1-8772-804db74af951",
   "metadata": {},
   "outputs": [],
   "source": [
    "# Select some text data\n",
    "\n",
    "data = wpqs[['cleanedQuestion', 'topic']]"
   ]
  },
  {
   "cell_type": "code",
   "execution_count": 4,
   "id": "7b612adf-52b0-4ea0-b616-31566d33f396",
   "metadata": {},
   "outputs": [
    {
     "data": {
      "text/html": [
       "<div>\n",
       "<style scoped>\n",
       "    .dataframe tbody tr th:only-of-type {\n",
       "        vertical-align: middle;\n",
       "    }\n",
       "\n",
       "    .dataframe tbody tr th {\n",
       "        vertical-align: top;\n",
       "    }\n",
       "\n",
       "    .dataframe thead th {\n",
       "        text-align: right;\n",
       "    }\n",
       "</style>\n",
       "<table border=\"1\" class=\"dataframe\">\n",
       "  <thead>\n",
       "    <tr style=\"text-align: right;\">\n",
       "      <th></th>\n",
       "      <th>cleanedQuestion</th>\n",
       "      <th>topic</th>\n",
       "    </tr>\n",
       "  </thead>\n",
       "  <tbody>\n",
       "    <tr>\n",
       "      <th>0</th>\n",
       "      <td>how much has been paid through working tax cre...</td>\n",
       "      <td>working tax credit</td>\n",
       "    </tr>\n",
       "    <tr>\n",
       "      <th>1</th>\n",
       "      <td>what the value was of the average claim for ta...</td>\n",
       "      <td>welfare tax credits</td>\n",
       "    </tr>\n",
       "    <tr>\n",
       "      <th>2</th>\n",
       "      <td>what the total value was of tax credits paid t...</td>\n",
       "      <td>welfare tax credits</td>\n",
       "    </tr>\n",
       "    <tr>\n",
       "      <th>3</th>\n",
       "      <td>how many self-employed people claimed (a) chil...</td>\n",
       "      <td>welfare tax credits</td>\n",
       "    </tr>\n",
       "    <tr>\n",
       "      <th>4</th>\n",
       "      <td>how many families in (a) york central constitu...</td>\n",
       "      <td>welfare tax credits</td>\n",
       "    </tr>\n",
       "  </tbody>\n",
       "</table>\n",
       "</div>"
      ],
      "text/plain": [
       "                                     cleanedQuestion                topic\n",
       "0  how much has been paid through working tax cre...   working tax credit\n",
       "1  what the value was of the average claim for ta...  welfare tax credits\n",
       "2  what the total value was of tax credits paid t...  welfare tax credits\n",
       "3  how many self-employed people claimed (a) chil...  welfare tax credits\n",
       "4  how many families in (a) york central constitu...  welfare tax credits"
      ]
     },
     "execution_count": 4,
     "metadata": {},
     "output_type": "execute_result"
    }
   ],
   "source": [
    "data.head()"
   ]
  },
  {
   "cell_type": "code",
   "execution_count": 5,
   "id": "bdbbec9a-5b98-4ee4-8390-13c1312a5fe7",
   "metadata": {},
   "outputs": [],
   "source": [
    "# data[(data.label == None) & (data.cleanedQuestion.str.contains('on-street residential'))].cleanedQuestion.tolist()"
   ]
  },
  {
   "cell_type": "code",
   "execution_count": 6,
   "id": "12d7f3ee-2c5f-40fa-81b7-ec92319c5755",
   "metadata": {},
   "outputs": [],
   "source": [
    "# lst = ['coronavirus', 'universal credit', 'nhs', 'children', 'schools', 'social security benefits', 'asylum', 'immigraiton', 'metnal health servicies', 'armed forces', 'prisons']"
   ]
  },
  {
   "cell_type": "code",
   "execution_count": 7,
   "id": "cf3cf331-4c86-4148-a286-d3d92dccda16",
   "metadata": {},
   "outputs": [],
   "source": [
    "# data['label'] = data.progress_apply(lambda row: 0 if row.topic in lst else row['label'], axis=1)"
   ]
  },
  {
   "cell_type": "code",
   "execution_count": 8,
   "id": "d4587961-aa99-449b-b53f-e78c589db8b6",
   "metadata": {},
   "outputs": [
    {
     "data": {
      "text/plain": [
       "coronavirus                      7881\n",
       "universal credit                 4082\n",
       "nhs                              3654\n",
       "children                         3637\n",
       "schools                          3473\n",
       "social security benefits         3231\n",
       "asylum                           3137\n",
       "railways                         3133\n",
       "immigration                      2815\n",
       "mental health services           2717\n",
       "housing                          2446\n",
       "armed forces                     2342\n",
       "prisons                          1965\n",
       "personal independence payment    1927\n",
       "developing countries             1910\n",
       "health services                  1779\n",
       "refugees                         1682\n",
       "energy                           1669\n",
       "israel                           1655\n",
       "police                           1651\n",
       "apprentices                      1640\n",
       "members                          1638\n",
       "                                 1603\n",
       "syria                            1596\n",
       "ministry of defence              1545\n",
       "social services                  1512\n",
       "cancer                           1426\n",
       "general practitioners            1381\n",
       "yemen                            1377\n",
       "prisoners                        1296\n",
       "Name: topic, dtype: int64"
      ]
     },
     "execution_count": 8,
     "metadata": {},
     "output_type": "execute_result"
    }
   ],
   "source": [
    "data.topic.value_counts().head(30)"
   ]
  },
  {
   "cell_type": "code",
   "execution_count": 9,
   "id": "a157ce5c-92cf-473a-975f-6e07db176ca5",
   "metadata": {},
   "outputs": [],
   "source": [
    "# data_sel = data.copy()\n",
    "# data_sel['topic'] = data_sel.label.astype('float')"
   ]
  },
  {
   "cell_type": "code",
   "execution_count": 10,
   "id": "6f057752-38fc-482d-bf0d-43aad72adf06",
   "metadata": {},
   "outputs": [
    {
     "name": "stderr",
     "output_type": "stream",
     "text": [
      "100%|████████████████████████████████████| 385417/385417 [00:03<00:00, 127642.41it/s]\n",
      "/var/folders/w2/xcfl_qhx2gqbllp7t6vq8fym0000gn/T/ipykernel_1359/736533832.py:2: SettingWithCopyWarning: \n",
      "A value is trying to be set on a copy of a slice from a DataFrame.\n",
      "Try using .loc[row_indexer,col_indexer] = value instead\n",
      "\n",
      "See the caveats in the documentation: https://pandas.pydata.org/pandas-docs/stable/user_guide/indexing.html#returning-a-view-versus-a-copy\n",
      "  data['ELECTRICV'] = data.progress_apply(lambda row: 1 if 'electric vehicle' in row.cleanedQuestion else 0, axis=1)\n",
      "100%|████████████████████████████████████| 385417/385417 [00:03<00:00, 101914.99it/s]\n",
      "/var/folders/w2/xcfl_qhx2gqbllp7t6vq8fym0000gn/T/ipykernel_1359/736533832.py:3: SettingWithCopyWarning: \n",
      "A value is trying to be set on a copy of a slice from a DataFrame.\n",
      "Try using .loc[row_indexer,col_indexer] = value instead\n",
      "\n",
      "See the caveats in the documentation: https://pandas.pydata.org/pandas-docs/stable/user_guide/indexing.html#returning-a-view-versus-a-copy\n",
      "  data['ELECTRICV'] = data.progress_apply(lambda row: 1 if 'electric car' in row.cleanedQuestion else row['ELECTRICV'], axis=1)\n",
      "100%|████████████████████████████████████| 385417/385417 [00:03<00:00, 103106.77it/s]\n",
      "/var/folders/w2/xcfl_qhx2gqbllp7t6vq8fym0000gn/T/ipykernel_1359/736533832.py:4: SettingWithCopyWarning: \n",
      "A value is trying to be set on a copy of a slice from a DataFrame.\n",
      "Try using .loc[row_indexer,col_indexer] = value instead\n",
      "\n",
      "See the caveats in the documentation: https://pandas.pydata.org/pandas-docs/stable/user_guide/indexing.html#returning-a-view-versus-a-copy\n",
      "  data['ELECTRICV'] = data.progress_apply(lambda row: 1 if 'public charging' in row.cleanedQuestion else row['ELECTRICV'], axis=1)\n",
      "100%|████████████████████████████████████| 385417/385417 [00:03<00:00, 103434.25it/s]\n",
      "/var/folders/w2/xcfl_qhx2gqbllp7t6vq8fym0000gn/T/ipykernel_1359/736533832.py:5: SettingWithCopyWarning: \n",
      "A value is trying to be set on a copy of a slice from a DataFrame.\n",
      "Try using .loc[row_indexer,col_indexer] = value instead\n",
      "\n",
      "See the caveats in the documentation: https://pandas.pydata.org/pandas-docs/stable/user_guide/indexing.html#returning-a-view-versus-a-copy\n",
      "  data['ELECTRICV'] = data.progress_apply(lambda row: 1 if 'gigafactory' in row.cleanedQuestion else row['ELECTRICV'], axis=1)\n",
      "100%|████████████████████████████████████| 385417/385417 [00:03<00:00, 101938.66it/s]\n",
      "/var/folders/w2/xcfl_qhx2gqbllp7t6vq8fym0000gn/T/ipykernel_1359/736533832.py:6: SettingWithCopyWarning: \n",
      "A value is trying to be set on a copy of a slice from a DataFrame.\n",
      "Try using .loc[row_indexer,col_indexer] = value instead\n",
      "\n",
      "See the caveats in the documentation: https://pandas.pydata.org/pandas-docs/stable/user_guide/indexing.html#returning-a-view-versus-a-copy\n",
      "  data['ELECTRICV'] = data.progress_apply(lambda row: 1 if 'electric battery' in row.cleanedQuestion else row['ELECTRICV'], axis=1)\n",
      "100%|████████████████████████████████████| 385417/385417 [00:03<00:00, 103790.44it/s]\n",
      "/var/folders/w2/xcfl_qhx2gqbllp7t6vq8fym0000gn/T/ipykernel_1359/736533832.py:7: SettingWithCopyWarning: \n",
      "A value is trying to be set on a copy of a slice from a DataFrame.\n",
      "Try using .loc[row_indexer,col_indexer] = value instead\n",
      "\n",
      "See the caveats in the documentation: https://pandas.pydata.org/pandas-docs/stable/user_guide/indexing.html#returning-a-view-versus-a-copy\n",
      "  data['ELECTRICV'] = data.progress_apply(lambda row: 1 if 'vehicle charging' in row.cleanedQuestion else row['ELECTRICV'], axis=1)\n",
      "100%|████████████████████████████████████| 385417/385417 [00:03<00:00, 103728.51it/s]\n",
      "/var/folders/w2/xcfl_qhx2gqbllp7t6vq8fym0000gn/T/ipykernel_1359/736533832.py:8: SettingWithCopyWarning: \n",
      "A value is trying to be set on a copy of a slice from a DataFrame.\n",
      "Try using .loc[row_indexer,col_indexer] = value instead\n",
      "\n",
      "See the caveats in the documentation: https://pandas.pydata.org/pandas-docs/stable/user_guide/indexing.html#returning-a-view-versus-a-copy\n",
      "  data['ELECTRICV'] = data.progress_apply(lambda row: 1 if 'car grant' in row.cleanedQuestion else row['ELECTRICV'], axis=1)\n",
      "100%|████████████████████████████████████| 385417/385417 [00:03<00:00, 104077.43it/s]\n",
      "/var/folders/w2/xcfl_qhx2gqbllp7t6vq8fym0000gn/T/ipykernel_1359/736533832.py:9: SettingWithCopyWarning: \n",
      "A value is trying to be set on a copy of a slice from a DataFrame.\n",
      "Try using .loc[row_indexer,col_indexer] = value instead\n",
      "\n",
      "See the caveats in the documentation: https://pandas.pydata.org/pandas-docs/stable/user_guide/indexing.html#returning-a-view-versus-a-copy\n",
      "  data['ELECTRICV'] = data.progress_apply(lambda row: 1 if 'homecharge' in row.cleanedQuestion else row['ELECTRICV'], axis=1)\n",
      "100%|████████████████████████████████████| 385417/385417 [00:03<00:00, 103955.94it/s]\n",
      "/var/folders/w2/xcfl_qhx2gqbllp7t6vq8fym0000gn/T/ipykernel_1359/736533832.py:10: SettingWithCopyWarning: \n",
      "A value is trying to be set on a copy of a slice from a DataFrame.\n",
      "Try using .loc[row_indexer,col_indexer] = value instead\n",
      "\n",
      "See the caveats in the documentation: https://pandas.pydata.org/pandas-docs/stable/user_guide/indexing.html#returning-a-view-versus-a-copy\n",
      "  data['ELECTRICV'] = data.progress_apply(lambda row: 1 if 'workplace charging' in row.cleanedQuestion else row['ELECTRICV'], axis=1)\n",
      "100%|████████████████████████████████████| 385417/385417 [00:03<00:00, 103631.07it/s]\n",
      "/var/folders/w2/xcfl_qhx2gqbllp7t6vq8fym0000gn/T/ipykernel_1359/736533832.py:11: SettingWithCopyWarning: \n",
      "A value is trying to be set on a copy of a slice from a DataFrame.\n",
      "Try using .loc[row_indexer,col_indexer] = value instead\n",
      "\n",
      "See the caveats in the documentation: https://pandas.pydata.org/pandas-docs/stable/user_guide/indexing.html#returning-a-view-versus-a-copy\n",
      "  data['ELECTRICV'] = data.progress_apply(lambda row: 1 if 'on-street residential' in row.cleanedQuestion else row['ELECTRICV'], axis=1)\n"
     ]
    }
   ],
   "source": [
    "# Manually label EVs\n",
    "data['ELECTRICV'] = data.progress_apply(lambda row: 1 if 'electric vehicle' in row.cleanedQuestion else 0, axis=1)\n",
    "data['ELECTRICV'] = data.progress_apply(lambda row: 1 if 'electric car' in row.cleanedQuestion else row['ELECTRICV'], axis=1)\n",
    "data['ELECTRICV'] = data.progress_apply(lambda row: 1 if 'public charging' in row.cleanedQuestion else row['ELECTRICV'], axis=1)\n",
    "data['ELECTRICV'] = data.progress_apply(lambda row: 1 if 'gigafactory' in row.cleanedQuestion else row['ELECTRICV'], axis=1)\n",
    "data['ELECTRICV'] = data.progress_apply(lambda row: 1 if 'electric battery' in row.cleanedQuestion else row['ELECTRICV'], axis=1)\n",
    "data['ELECTRICV'] = data.progress_apply(lambda row: 1 if 'vehicle charging' in row.cleanedQuestion else row['ELECTRICV'], axis=1)\n",
    "data['ELECTRICV'] = data.progress_apply(lambda row: 1 if 'car grant' in row.cleanedQuestion else row['ELECTRICV'], axis=1)\n",
    "data['ELECTRICV'] = data.progress_apply(lambda row: 1 if 'homecharge' in row.cleanedQuestion else row['ELECTRICV'], axis=1)\n",
    "data['ELECTRICV'] = data.progress_apply(lambda row: 1 if 'workplace charging' in row.cleanedQuestion else row['ELECTRICV'], axis=1)\n",
    "data['ELECTRICV'] = data.progress_apply(lambda row: 1 if 'on-street residential' in row.cleanedQuestion else row['ELECTRICV'], axis=1)"
   ]
  },
  {
   "cell_type": "code",
   "execution_count": 11,
   "id": "3c13817d-5cda-4b58-81ce-dfa12cde6976",
   "metadata": {},
   "outputs": [
    {
     "name": "stderr",
     "output_type": "stream",
     "text": [
      "100%|████████████████████████████████████| 385417/385417 [00:02<00:00, 133161.02it/s]\n",
      "/var/folders/w2/xcfl_qhx2gqbllp7t6vq8fym0000gn/T/ipykernel_1359/3290043840.py:1: SettingWithCopyWarning: \n",
      "A value is trying to be set on a copy of a slice from a DataFrame.\n",
      "Try using .loc[row_indexer,col_indexer] = value instead\n",
      "\n",
      "See the caveats in the documentation: https://pandas.pydata.org/pandas-docs/stable/user_guide/indexing.html#returning-a-view-versus-a-copy\n",
      "  data['CORONAVIRUS'] = data.progress_apply(lambda row: 1 if 'coronavirus' in row.topic else 0, axis=1)\n"
     ]
    }
   ],
   "source": [
    "data['CORONAVIRUS'] = data.progress_apply(lambda row: 1 if 'coronavirus' in row.topic else 0, axis=1)"
   ]
  },
  {
   "cell_type": "code",
   "execution_count": 12,
   "id": "b7c1fd54-579d-42d1-bd0e-3bbeda4f3082",
   "metadata": {},
   "outputs": [
    {
     "name": "stderr",
     "output_type": "stream",
     "text": [
      "100%|████████████████████████████████████| 385417/385417 [00:02<00:00, 133193.14it/s]\n",
      "/var/folders/w2/xcfl_qhx2gqbllp7t6vq8fym0000gn/T/ipykernel_1359/2012056667.py:1: SettingWithCopyWarning: \n",
      "A value is trying to be set on a copy of a slice from a DataFrame.\n",
      "Try using .loc[row_indexer,col_indexer] = value instead\n",
      "\n",
      "See the caveats in the documentation: https://pandas.pydata.org/pandas-docs/stable/user_guide/indexing.html#returning-a-view-versus-a-copy\n",
      "  data['UCREDIT'] = data.progress_apply(lambda row: 1 if 'universal credit' in row.topic else 0, axis=1)\n"
     ]
    }
   ],
   "source": [
    "data['UCREDIT'] = data.progress_apply(lambda row: 1 if 'universal credit' in row.topic else 0, axis=1)"
   ]
  },
  {
   "cell_type": "code",
   "execution_count": 13,
   "id": "e0bc0957-5f32-4b6a-9e2b-e2cc7f5fe62a",
   "metadata": {},
   "outputs": [
    {
     "name": "stderr",
     "output_type": "stream",
     "text": [
      "100%|████████████████████████████████████| 385417/385417 [00:03<00:00, 125496.69it/s]\n",
      "/var/folders/w2/xcfl_qhx2gqbllp7t6vq8fym0000gn/T/ipykernel_1359/1451877876.py:1: SettingWithCopyWarning: \n",
      "A value is trying to be set on a copy of a slice from a DataFrame.\n",
      "Try using .loc[row_indexer,col_indexer] = value instead\n",
      "\n",
      "See the caveats in the documentation: https://pandas.pydata.org/pandas-docs/stable/user_guide/indexing.html#returning-a-view-versus-a-copy\n",
      "  data['NHS'] = data.progress_apply(lambda row: 1 if 'nhs' in row.topic else 0, axis=1)\n"
     ]
    }
   ],
   "source": [
    "data['NHS'] = data.progress_apply(lambda row: 1 if 'nhs' in row.topic else 0, axis=1)"
   ]
  },
  {
   "cell_type": "code",
   "execution_count": 14,
   "id": "9ea41dd2-e1b8-47aa-9d74-aaf02c5ae370",
   "metadata": {},
   "outputs": [
    {
     "name": "stderr",
     "output_type": "stream",
     "text": [
      "100%|████████████████████████████████████| 385417/385417 [00:03<00:00, 125829.08it/s]\n",
      "/var/folders/w2/xcfl_qhx2gqbllp7t6vq8fym0000gn/T/ipykernel_1359/3152311628.py:1: SettingWithCopyWarning: \n",
      "A value is trying to be set on a copy of a slice from a DataFrame.\n",
      "Try using .loc[row_indexer,col_indexer] = value instead\n",
      "\n",
      "See the caveats in the documentation: https://pandas.pydata.org/pandas-docs/stable/user_guide/indexing.html#returning-a-view-versus-a-copy\n",
      "  data['CHILDREN'] = data.progress_apply(lambda row: 1 if 'children' in row.topic else 0, axis=1)\n"
     ]
    }
   ],
   "source": [
    "data['CHILDREN'] = data.progress_apply(lambda row: 1 if 'children' in row.topic else 0, axis=1)"
   ]
  },
  {
   "cell_type": "code",
   "execution_count": 15,
   "id": "92446b02-574c-47f5-ab77-449ee345a985",
   "metadata": {},
   "outputs": [
    {
     "name": "stderr",
     "output_type": "stream",
     "text": [
      "100%|████████████████████████████████████| 385417/385417 [00:02<00:00, 129288.09it/s]\n",
      "/var/folders/w2/xcfl_qhx2gqbllp7t6vq8fym0000gn/T/ipykernel_1359/4078236028.py:1: SettingWithCopyWarning: \n",
      "A value is trying to be set on a copy of a slice from a DataFrame.\n",
      "Try using .loc[row_indexer,col_indexer] = value instead\n",
      "\n",
      "See the caveats in the documentation: https://pandas.pydata.org/pandas-docs/stable/user_guide/indexing.html#returning-a-view-versus-a-copy\n",
      "  data['EDUCATION'] = data.progress_apply(lambda row: 1 if 'schools' in row.topic else 0, axis=1)\n"
     ]
    }
   ],
   "source": [
    "data['EDUCATION'] = data.progress_apply(lambda row: 1 if 'schools' in row.topic else 0, axis=1)"
   ]
  },
  {
   "cell_type": "code",
   "execution_count": 16,
   "id": "3607d1e0-a2ef-4f75-8178-aaddae8ca08d",
   "metadata": {},
   "outputs": [
    {
     "data": {
      "text/html": [
       "<div>\n",
       "<style scoped>\n",
       "    .dataframe tbody tr th:only-of-type {\n",
       "        vertical-align: middle;\n",
       "    }\n",
       "\n",
       "    .dataframe tbody tr th {\n",
       "        vertical-align: top;\n",
       "    }\n",
       "\n",
       "    .dataframe thead th {\n",
       "        text-align: right;\n",
       "    }\n",
       "</style>\n",
       "<table border=\"1\" class=\"dataframe\">\n",
       "  <thead>\n",
       "    <tr style=\"text-align: right;\">\n",
       "      <th></th>\n",
       "      <th>cleanedQuestion</th>\n",
       "      <th>topic</th>\n",
       "      <th>ELECTRICV</th>\n",
       "      <th>CORONAVIRUS</th>\n",
       "      <th>UCREDIT</th>\n",
       "      <th>NHS</th>\n",
       "      <th>CHILDREN</th>\n",
       "      <th>EDUCATION</th>\n",
       "    </tr>\n",
       "  </thead>\n",
       "  <tbody>\n",
       "    <tr>\n",
       "      <th>0</th>\n",
       "      <td>how much has been paid through working tax cre...</td>\n",
       "      <td>working tax credit</td>\n",
       "      <td>0</td>\n",
       "      <td>0</td>\n",
       "      <td>0</td>\n",
       "      <td>0</td>\n",
       "      <td>0</td>\n",
       "      <td>0</td>\n",
       "    </tr>\n",
       "    <tr>\n",
       "      <th>1</th>\n",
       "      <td>what the value was of the average claim for ta...</td>\n",
       "      <td>welfare tax credits</td>\n",
       "      <td>0</td>\n",
       "      <td>0</td>\n",
       "      <td>0</td>\n",
       "      <td>0</td>\n",
       "      <td>0</td>\n",
       "      <td>0</td>\n",
       "    </tr>\n",
       "    <tr>\n",
       "      <th>2</th>\n",
       "      <td>what the total value was of tax credits paid t...</td>\n",
       "      <td>welfare tax credits</td>\n",
       "      <td>0</td>\n",
       "      <td>0</td>\n",
       "      <td>0</td>\n",
       "      <td>0</td>\n",
       "      <td>0</td>\n",
       "      <td>0</td>\n",
       "    </tr>\n",
       "    <tr>\n",
       "      <th>3</th>\n",
       "      <td>how many self-employed people claimed (a) chil...</td>\n",
       "      <td>welfare tax credits</td>\n",
       "      <td>0</td>\n",
       "      <td>0</td>\n",
       "      <td>0</td>\n",
       "      <td>0</td>\n",
       "      <td>0</td>\n",
       "      <td>0</td>\n",
       "    </tr>\n",
       "    <tr>\n",
       "      <th>4</th>\n",
       "      <td>how many families in (a) york central constitu...</td>\n",
       "      <td>welfare tax credits</td>\n",
       "      <td>0</td>\n",
       "      <td>0</td>\n",
       "      <td>0</td>\n",
       "      <td>0</td>\n",
       "      <td>0</td>\n",
       "      <td>0</td>\n",
       "    </tr>\n",
       "  </tbody>\n",
       "</table>\n",
       "</div>"
      ],
      "text/plain": [
       "                                     cleanedQuestion                topic  \\\n",
       "0  how much has been paid through working tax cre...   working tax credit   \n",
       "1  what the value was of the average claim for ta...  welfare tax credits   \n",
       "2  what the total value was of tax credits paid t...  welfare tax credits   \n",
       "3  how many self-employed people claimed (a) chil...  welfare tax credits   \n",
       "4  how many families in (a) york central constitu...  welfare tax credits   \n",
       "\n",
       "   ELECTRICV  CORONAVIRUS  UCREDIT  NHS  CHILDREN  EDUCATION  \n",
       "0          0            0        0    0         0          0  \n",
       "1          0            0        0    0         0          0  \n",
       "2          0            0        0    0         0          0  \n",
       "3          0            0        0    0         0          0  \n",
       "4          0            0        0    0         0          0  "
      ]
     },
     "execution_count": 16,
     "metadata": {},
     "output_type": "execute_result"
    }
   ],
   "source": [
    "data.head()"
   ]
  },
  {
   "cell_type": "code",
   "execution_count": 17,
   "id": "102eec36-250d-476f-a0a4-70ab101eb8eb",
   "metadata": {},
   "outputs": [],
   "source": [
    "cats_dict = {\n",
    "    'CORONAVIRUS': 0,\n",
    "    'UCREDIT': 0,\n",
    "    'NHS': 0,\n",
    "    'CHILDREN': 0,\n",
    "    'EDUCATION': 0,\n",
    "    'ELECTRICV': 0\n",
    "}\n",
    "cats = {'cats': cats_dict}"
   ]
  },
  {
   "cell_type": "code",
   "execution_count": 18,
   "id": "e2921e0d-b7db-49e8-af2c-5f4e222c07c8",
   "metadata": {},
   "outputs": [],
   "source": [
    "ln = data.shape[0]"
   ]
  },
  {
   "cell_type": "code",
   "execution_count": 19,
   "id": "390a40b2-57f0-4a84-8541-b96999232b1c",
   "metadata": {},
   "outputs": [
    {
     "data": {
      "text/plain": [
       "385417"
      ]
     },
     "execution_count": 19,
     "metadata": {},
     "output_type": "execute_result"
    }
   ],
   "source": [
    "ln"
   ]
  },
  {
   "cell_type": "code",
   "execution_count": 20,
   "id": "9abb6cc3-bd11-46c5-b3e2-7431b56eb2a8",
   "metadata": {},
   "outputs": [
    {
     "data": {
      "text/plain": [
       "cleanedQuestion    how much has been paid through working tax cre...\n",
       "topic                                             working tax credit\n",
       "ELECTRICV                                                          0\n",
       "CORONAVIRUS                                                        0\n",
       "UCREDIT                                                            0\n",
       "NHS                                                                0\n",
       "CHILDREN                                                           0\n",
       "EDUCATION                                                          0\n",
       "Name: 0, dtype: object"
      ]
     },
     "execution_count": 20,
     "metadata": {},
     "output_type": "execute_result"
    }
   ],
   "source": [
    "data.iloc[0]"
   ]
  },
  {
   "cell_type": "code",
   "execution_count": 21,
   "id": "11e40fa8-ce80-4a71-9d02-bf91a85ba46f",
   "metadata": {},
   "outputs": [],
   "source": [
    "# data.iloc[0][['ELECTRICV', 'CORONAVIRUS', 'UCREDIT', 'NHS', 'CHILDREN', 'EDUCATION']].to_dict()"
   ]
  },
  {
   "cell_type": "code",
   "execution_count": 27,
   "id": "c5373b72-25da-4543-aff6-91dd9df9f459",
   "metadata": {},
   "outputs": [
    {
     "data": {
      "text/html": [
       "<div>\n",
       "<style scoped>\n",
       "    .dataframe tbody tr th:only-of-type {\n",
       "        vertical-align: middle;\n",
       "    }\n",
       "\n",
       "    .dataframe tbody tr th {\n",
       "        vertical-align: top;\n",
       "    }\n",
       "\n",
       "    .dataframe thead th {\n",
       "        text-align: right;\n",
       "    }\n",
       "</style>\n",
       "<table border=\"1\" class=\"dataframe\">\n",
       "  <thead>\n",
       "    <tr style=\"text-align: right;\">\n",
       "      <th></th>\n",
       "      <th>cleanedQuestion</th>\n",
       "      <th>topic</th>\n",
       "      <th>ELECTRICV</th>\n",
       "      <th>CORONAVIRUS</th>\n",
       "      <th>UCREDIT</th>\n",
       "      <th>NHS</th>\n",
       "      <th>CHILDREN</th>\n",
       "      <th>EDUCATION</th>\n",
       "    </tr>\n",
       "  </thead>\n",
       "  <tbody>\n",
       "    <tr>\n",
       "      <th>11815</th>\n",
       "      <td>what assessment he has made of the comprehensi...</td>\n",
       "      <td>electric vehicles</td>\n",
       "      <td>1</td>\n",
       "      <td>0</td>\n",
       "      <td>0</td>\n",
       "      <td>0</td>\n",
       "      <td>0</td>\n",
       "      <td>0</td>\n",
       "    </tr>\n",
       "    <tr>\n",
       "      <th>27572</th>\n",
       "      <td>how many ultra low emission vehicles of what m...</td>\n",
       "      <td>motor vehicles</td>\n",
       "      <td>1</td>\n",
       "      <td>0</td>\n",
       "      <td>0</td>\n",
       "      <td>0</td>\n",
       "      <td>0</td>\n",
       "      <td>0</td>\n",
       "    </tr>\n",
       "    <tr>\n",
       "      <th>40813</th>\n",
       "      <td>how many publicly-funded charging points for e...</td>\n",
       "      <td>electric vehicles</td>\n",
       "      <td>1</td>\n",
       "      <td>0</td>\n",
       "      <td>0</td>\n",
       "      <td>0</td>\n",
       "      <td>0</td>\n",
       "      <td>0</td>\n",
       "    </tr>\n",
       "    <tr>\n",
       "      <th>40837</th>\n",
       "      <td>what his department's budget was for new charg...</td>\n",
       "      <td>electric vehicles</td>\n",
       "      <td>1</td>\n",
       "      <td>0</td>\n",
       "      <td>0</td>\n",
       "      <td>0</td>\n",
       "      <td>0</td>\n",
       "      <td>0</td>\n",
       "    </tr>\n",
       "    <tr>\n",
       "      <th>41542</th>\n",
       "      <td>what assessment he has made of the possible da...</td>\n",
       "      <td>electric vehicles</td>\n",
       "      <td>1</td>\n",
       "      <td>0</td>\n",
       "      <td>0</td>\n",
       "      <td>0</td>\n",
       "      <td>0</td>\n",
       "      <td>0</td>\n",
       "    </tr>\n",
       "    <tr>\n",
       "      <th>...</th>\n",
       "      <td>...</td>\n",
       "      <td>...</td>\n",
       "      <td>...</td>\n",
       "      <td>...</td>\n",
       "      <td>...</td>\n",
       "      <td>...</td>\n",
       "      <td>...</td>\n",
       "      <td>...</td>\n",
       "    </tr>\n",
       "    <tr>\n",
       "      <th>383221</th>\n",
       "      <td>what steps his department is taking to ensure ...</td>\n",
       "      <td>electric vehicles</td>\n",
       "      <td>1</td>\n",
       "      <td>0</td>\n",
       "      <td>0</td>\n",
       "      <td>0</td>\n",
       "      <td>0</td>\n",
       "      <td>0</td>\n",
       "    </tr>\n",
       "    <tr>\n",
       "      <th>383358</th>\n",
       "      <td>what recent assessment he has made of the adeq...</td>\n",
       "      <td>electric vehicles</td>\n",
       "      <td>1</td>\n",
       "      <td>0</td>\n",
       "      <td>0</td>\n",
       "      <td>0</td>\n",
       "      <td>0</td>\n",
       "      <td>0</td>\n",
       "    </tr>\n",
       "    <tr>\n",
       "      <th>383481</th>\n",
       "      <td>how many electric car charging points (a) are ...</td>\n",
       "      <td>electric vehicles</td>\n",
       "      <td>1</td>\n",
       "      <td>0</td>\n",
       "      <td>0</td>\n",
       "      <td>0</td>\n",
       "      <td>0</td>\n",
       "      <td>0</td>\n",
       "    </tr>\n",
       "    <tr>\n",
       "      <th>384101</th>\n",
       "      <td>what support his department is providing to lo...</td>\n",
       "      <td></td>\n",
       "      <td>1</td>\n",
       "      <td>0</td>\n",
       "      <td>0</td>\n",
       "      <td>0</td>\n",
       "      <td>0</td>\n",
       "      <td>0</td>\n",
       "    </tr>\n",
       "    <tr>\n",
       "      <th>384102</th>\n",
       "      <td>what steps he is taking to increase the number...</td>\n",
       "      <td></td>\n",
       "      <td>1</td>\n",
       "      <td>0</td>\n",
       "      <td>0</td>\n",
       "      <td>0</td>\n",
       "      <td>0</td>\n",
       "      <td>0</td>\n",
       "    </tr>\n",
       "  </tbody>\n",
       "</table>\n",
       "<p>678 rows × 8 columns</p>\n",
       "</div>"
      ],
      "text/plain": [
       "                                          cleanedQuestion              topic  \\\n",
       "11815   what assessment he has made of the comprehensi...  electric vehicles   \n",
       "27572   how many ultra low emission vehicles of what m...     motor vehicles   \n",
       "40813   how many publicly-funded charging points for e...  electric vehicles   \n",
       "40837   what his department's budget was for new charg...  electric vehicles   \n",
       "41542   what assessment he has made of the possible da...  electric vehicles   \n",
       "...                                                   ...                ...   \n",
       "383221  what steps his department is taking to ensure ...  electric vehicles   \n",
       "383358  what recent assessment he has made of the adeq...  electric vehicles   \n",
       "383481  how many electric car charging points (a) are ...  electric vehicles   \n",
       "384101  what support his department is providing to lo...                      \n",
       "384102  what steps he is taking to increase the number...                      \n",
       "\n",
       "        ELECTRICV  CORONAVIRUS  UCREDIT  NHS  CHILDREN  EDUCATION  \n",
       "11815           1            0        0    0         0          0  \n",
       "27572           1            0        0    0         0          0  \n",
       "40813           1            0        0    0         0          0  \n",
       "40837           1            0        0    0         0          0  \n",
       "41542           1            0        0    0         0          0  \n",
       "...           ...          ...      ...  ...       ...        ...  \n",
       "383221          1            0        0    0         0          0  \n",
       "383358          1            0        0    0         0          0  \n",
       "383481          1            0        0    0         0          0  \n",
       "384101          1            0        0    0         0          0  \n",
       "384102          1            0        0    0         0          0  \n",
       "\n",
       "[678 rows x 8 columns]"
      ]
     },
     "execution_count": 27,
     "metadata": {},
     "output_type": "execute_result"
    }
   ],
   "source": [
    "data[(data.ELECTRICV > 0) | (data.CORONAVIRUS > 1)]"
   ]
  },
  {
   "cell_type": "code",
   "execution_count": 29,
   "id": "a6a6f72b-c800-4399-a136-c2bbfa4b9be0",
   "metadata": {},
   "outputs": [],
   "source": [
    "data_sel = data[(data.ELECTRICV > 0) | (data.CORONAVIRUS > 0) | (data.UCREDIT > 0) | (data.NHS > 0) | (data.CHILDREN > 0) | (data.EDUCATION > 0)]"
   ]
  },
  {
   "cell_type": "code",
   "execution_count": 30,
   "id": "d9515b82-7f98-44e4-862f-733fef518def",
   "metadata": {},
   "outputs": [
    {
     "name": "stderr",
     "output_type": "stream",
     "text": [
      "100%|████████████████████████████████████████| 28524/28524 [00:05<00:00, 4868.07it/s]\n",
      "/var/folders/w2/xcfl_qhx2gqbllp7t6vq8fym0000gn/T/ipykernel_1359/3255465800.py:1: SettingWithCopyWarning: \n",
      "A value is trying to be set on a copy of a slice from a DataFrame.\n",
      "Try using .loc[row_indexer,col_indexer] = value instead\n",
      "\n",
      "See the caveats in the documentation: https://pandas.pydata.org/pandas-docs/stable/user_guide/indexing.html#returning-a-view-versus-a-copy\n",
      "  data_sel['tuples'] = data_sel.progress_apply(lambda row: (row['cleanedQuestion'], {'cats': row[['ELECTRICV', 'CORONAVIRUS', 'UCREDIT', 'NHS', 'CHILDREN', 'EDUCATION']].to_dict()}), axis=1)\n"
     ]
    }
   ],
   "source": [
    "data_sel['tuples'] = data_sel.progress_apply(lambda row: (row['cleanedQuestion'], {'cats': row[['ELECTRICV', 'CORONAVIRUS', 'UCREDIT', 'NHS', 'CHILDREN', 'EDUCATION']].to_dict()}), axis=1)"
   ]
  },
  {
   "cell_type": "code",
   "execution_count": 31,
   "id": "5736db91-ef4e-4cf6-8fa3-707ef376a0b7",
   "metadata": {},
   "outputs": [
    {
     "data": {
      "text/plain": [
       "[('what estimate he has made of the number of partners in small businesses who will apply for universal credit; and what steps such people need to take to establish their monthly income in order to do so.',\n",
       "  {'cats': {'ELECTRICV': 0,\n",
       "    'CORONAVIRUS': 0,\n",
       "    'UCREDIT': 1,\n",
       "    'NHS': 0,\n",
       "    'CHILDREN': 0,\n",
       "    'EDUCATION': 0}})]"
      ]
     },
     "execution_count": 31,
     "metadata": {},
     "output_type": "execute_result"
    }
   ],
   "source": [
    "# data_sel is a labelled dataset, we can now preprocess\n",
    "# data_sel['tuples'] = data_sel.progress_apply(lambda row: (row['cleanedQuestion'],cats), axis=1)\n",
    "data_sel = data_sel['tuples'].tolist()\n",
    "data_sel[:1]"
   ]
  },
  {
   "cell_type": "code",
   "execution_count": 54,
   "id": "fd1d7602-67a4-48f8-a842-2ca45b5c81fc",
   "metadata": {},
   "outputs": [
    {
     "ename": "NameError",
     "evalue": "name 'get_textcat_pipe' is not defined",
     "output_type": "error",
     "traceback": [
      "\u001b[0;31m---------------------------------------------------------------------------\u001b[0m",
      "\u001b[0;31mNameError\u001b[0m                                 Traceback (most recent call last)",
      "Input \u001b[0;32mIn [54]\u001b[0m, in \u001b[0;36m<module>\u001b[0;34m\u001b[0m\n\u001b[0;32m----> 1\u001b[0m textcat \u001b[38;5;241m=\u001b[39m \u001b[43mget_textcat_pipe\u001b[49m(nlp)\n",
      "\u001b[0;31mNameError\u001b[0m: name 'get_textcat_pipe' is not defined"
     ]
    }
   ],
   "source": [
    "textcat = get_textcat_pipe(nlp)"
   ]
  },
  {
   "cell_type": "code",
   "execution_count": null,
   "id": "a68457de-8ad8-4eff-9517-2b63f6f0426c",
   "metadata": {},
   "outputs": [],
   "source": []
  },
  {
   "cell_type": "code",
   "execution_count": 38,
   "id": "0ede1394-650a-427d-97c1-ae77d6f2d43b",
   "metadata": {},
   "outputs": [
    {
     "data": {
      "text/plain": [
       "28524"
      ]
     },
     "execution_count": 38,
     "metadata": {},
     "output_type": "execute_result"
    }
   ],
   "source": [
    "len(data_sel)"
   ]
  },
  {
   "cell_type": "code",
   "execution_count": 35,
   "id": "9c950051-8713-4340-90d0-d6ff5d1dbec9",
   "metadata": {},
   "outputs": [],
   "source": [
    "def load_data(train_data, limit=0, split=0.8):\n",
    "#     train_data = data\n",
    "    np.random.shuffle(train_data)\n",
    "    train_data = train_data[-limit:]\n",
    "    texts, labels = zip(*train_data)\n",
    "    cats = [{'ELECTRICV': bool(y)} for y in labels]\n",
    "    split = int(len(train_data) * split)\n",
    "    return (texts[:split], cats[:split]), (texts[split:], cats[split:])"
   ]
  },
  {
   "cell_type": "code",
   "execution_count": 36,
   "id": "7d7831db-1ecb-4cc7-80af-35554e52dae2",
   "metadata": {},
   "outputs": [],
   "source": [
    "def evaluate(tokenizer, textcat, texts, cats):\n",
    "    docs = (tokenizer(text) for text in texts)\n",
    "    tp = 1e-8  # True positives\n",
    "    fp = 1e-8  # False positives\n",
    "    fn = 1e-8  # False negatives\n",
    "    tn = 1e-8  # True negatives\n",
    "    for i, doc in enumerate(textcat.pipe(docs)):\n",
    "        gold = cats[i]\n",
    "        for label, score in doc.cats.items():\n",
    "            if label not in gold:\n",
    "                continue\n",
    "            if score >= 0.5 and gold[label] >= 0.5:\n",
    "                tp += 1.\n",
    "            elif score >= 0.5 and gold[label] < 0.5:\n",
    "                fp += 1.\n",
    "            elif score < 0.5 and gold[label] < 0.5:\n",
    "                tn += 1\n",
    "            elif score < 0.5 and gold[label] >= 0.5:\n",
    "                fn += 1\n",
    "    precision = tp / (tp + fp)\n",
    "    recall = tp / (tp + fn)\n",
    "    f_score = 2 * (precision * recall) / (precision + recall)\n",
    "    return {'textcat_p': precision, 'textcat_r': recall, 'textcat_f': f_score}"
   ]
  },
  {
   "cell_type": "code",
   "execution_count": 39,
   "id": "60dc851e-eb82-4a86-9881-62438f811ec5",
   "metadata": {},
   "outputs": [],
   "source": [
    "n_texts = 20000\n",
    "n_iter = 10"
   ]
  },
  {
   "cell_type": "code",
   "execution_count": 46,
   "id": "68e2bf7b-b0cc-4375-89e7-71d1539e0215",
   "metadata": {},
   "outputs": [],
   "source": [
    "if 'textcat_multilabel' not in nlp.pipe_names:\n",
    "    textcat = nlp.add_pipe('textcat_multilabel')\n",
    "else:\n",
    "    textcat = nlp.get_pipe"
   ]
  },
  {
   "cell_type": "code",
   "execution_count": 47,
   "id": "b238196c-bf9f-4b65-8f1d-75f5b3a847d8",
   "metadata": {},
   "outputs": [
    {
     "data": {
      "text/plain": [
       "('what estimate he has made of the number of partners in small businesses who will apply for universal credit; and what steps such people need to take to establish their monthly income in order to do so.',\n",
       " {'cats': {'ELECTRICV': 0,\n",
       "   'CORONAVIRUS': 0,\n",
       "   'UCREDIT': 1,\n",
       "   'NHS': 0,\n",
       "   'CHILDREN': 0,\n",
       "   'EDUCATION': 0}})"
      ]
     },
     "execution_count": 47,
     "metadata": {},
     "output_type": "execute_result"
    }
   ],
   "source": [
    "data_sel[0]"
   ]
  },
  {
   "cell_type": "code",
   "execution_count": 51,
   "id": "f6fa2356-2c23-47a6-9186-ffeba6f132dd",
   "metadata": {},
   "outputs": [
    {
     "ename": "AttributeError",
     "evalue": "'English' object has no attribute 'add_label'",
     "output_type": "error",
     "traceback": [
      "\u001b[0;31m---------------------------------------------------------------------------\u001b[0m",
      "\u001b[0;31mAttributeError\u001b[0m                            Traceback (most recent call last)",
      "Input \u001b[0;32mIn [51]\u001b[0m, in \u001b[0;36m<module>\u001b[0;34m\u001b[0m\n\u001b[0;32m----> 1\u001b[0m \u001b[43mnlp\u001b[49m\u001b[38;5;241;43m.\u001b[39;49m\u001b[43madd_label\u001b[49m(\u001b[38;5;124m'\u001b[39m\u001b[38;5;124mELECTRICV\u001b[39m\u001b[38;5;124m'\u001b[39m)\n",
      "\u001b[0;31mAttributeError\u001b[0m: 'English' object has no attribute 'add_label'"
     ]
    }
   ],
   "source": [
    "nlp.add_label('ELECTRICV')\n",
    "# textcat.add_label('CORONAVIRUS')\n",
    "# textcat.add_label('UCREDIT')\n",
    "# textcat.add_label('NHS')\n",
    "# textcat.add_label('CHILDREN')\n",
    "# textcat.add_label('EDUCATION')"
   ]
  },
  {
   "cell_type": "code",
   "execution_count": 53,
   "id": "dbbcc1c6-c99a-4ef6-ada7-fd297fc77903",
   "metadata": {},
   "outputs": [
    {
     "ename": "AttributeError",
     "evalue": "'function' object has no attribute 'labels'",
     "output_type": "error",
     "traceback": [
      "\u001b[0;31m---------------------------------------------------------------------------\u001b[0m",
      "\u001b[0;31mAttributeError\u001b[0m                            Traceback (most recent call last)",
      "Input \u001b[0;32mIn [53]\u001b[0m, in \u001b[0;36m<module>\u001b[0;34m\u001b[0m\n\u001b[0;32m----> 1\u001b[0m \u001b[43mtextcat\u001b[49m\u001b[38;5;241;43m.\u001b[39;49m\u001b[43mlabels\u001b[49m\n",
      "\u001b[0;31mAttributeError\u001b[0m: 'function' object has no attribute 'labels'"
     ]
    }
   ],
   "source": [
    "textcat.labels"
   ]
  },
  {
   "cell_type": "code",
   "execution_count": null,
   "id": "1ac42e64-add1-464a-be48-f7f57cfa7fa2",
   "metadata": {},
   "outputs": [],
   "source": [
    "textcat.labels"
   ]
  },
  {
   "cell_type": "code",
   "execution_count": null,
   "id": "662f807e-2f1a-4946-9a83-4926167d07ad",
   "metadata": {},
   "outputs": [],
   "source": [
    "(train_texts, train_cats), (dev_texts, dev_cats) = load_data(train_data = data_sel, limit=n_texts)\n",
    "print(\"Using {} examples ({} training, {} evaluation)\".format(n_texts, len(train_texts), len(dev_texts)))"
   ]
  },
  {
   "cell_type": "code",
   "execution_count": null,
   "id": "eca316bf-e906-4ad2-a3f6-5829e4f528bc",
   "metadata": {},
   "outputs": [],
   "source": [
    "train_data = list(zip(train_texts, [{'cats': cats} for cats in train_cats]))"
   ]
  },
  {
   "cell_type": "code",
   "execution_count": null,
   "id": "9c64799c-2fd0-4373-af8d-e81b9f1439a5",
   "metadata": {},
   "outputs": [],
   "source": [
    "train_data"
   ]
  },
  {
   "cell_type": "code",
   "execution_count": null,
   "id": "97058aa6-eabe-4a0c-9ce9-fff626ed3964",
   "metadata": {},
   "outputs": [],
   "source": [
    "other_pipes = [pipe for pipe in nlp.pipe_names if pipe != 'textcat_multilabel']\n",
    "\n",
    "\n",
    "with nlp.disable_pipes(*other_pipes):  # only train textcat\n",
    "    optimizer = nlp.begin_training()\n",
    "    print(\"Training the model...\")\n",
    "    print('{:^5}\\t{:^5}\\t{:^5}\\t{:^5}'.format('LOSS', 'P', 'R', 'F'))\n",
    "    for i in range(n_iter):\n",
    "        losses = {}\n",
    "        # batch up the examples using spaCy's minibatch\n",
    "        batches = minibatch(train_data, size=compounding(4., 32., 1.001))\n",
    "        for batch in batches:\n",
    "            texts, annotations = zip(*batch)\n",
    "            nlp.update(texts, annotations, sgd=optimizer, drop=0.2,\n",
    "                       losses=losses)\n",
    "        with textcat.model.use_params(optimizer.averages):\n",
    "            # evaluate on the dev data split off in load_data()\n",
    "            scores = evaluate(nlp.tokenizer, textcat, dev_texts, dev_cats)\n",
    "        print('{0:.3f}\\t{1:.3f}\\t{2:.3f}\\t{3:.3f}'  # print a simple table\n",
    "              .format(losses['textcat'], scores['textcat_p'],\n",
    "                      scores['textcat_r'], scores['textcat_f']))"
   ]
  },
  {
   "cell_type": "code",
   "execution_count": null,
   "id": "a6db7861-d92e-4974-81d4-1fa31cd4cb54",
   "metadata": {},
   "outputs": [],
   "source": []
  }
 ],
 "metadata": {
  "kernelspec": {
   "display_name": "Python 3 (ipykernel)",
   "language": "python",
   "name": "python3"
  },
  "language_info": {
   "codemirror_mode": {
    "name": "ipython",
    "version": 3
   },
   "file_extension": ".py",
   "mimetype": "text/x-python",
   "name": "python",
   "nbconvert_exporter": "python",
   "pygments_lexer": "ipython3",
   "version": "3.9.7"
  }
 },
 "nbformat": 4,
 "nbformat_minor": 5
}
