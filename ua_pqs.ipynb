{
 "cells": [
  {
   "cell_type": "code",
   "execution_count": 9,
   "metadata": {},
   "outputs": [],
   "source": [
    "import pandas as pd"
   ]
  },
  {
   "cell_type": "code",
   "execution_count": 10,
   "metadata": {},
   "outputs": [],
   "source": [
    "df = pd.read_csv('/Users/ben/Documents/blog/pqs/tmp/ua_pqs.csv')\n"
   ]
  },
  {
   "cell_type": "code",
   "execution_count": 16,
   "metadata": {},
   "outputs": [
    {
     "data": {
      "text/html": [
       "<div>\n",
       "<style scoped>\n",
       "    .dataframe tbody tr th:only-of-type {\n",
       "        vertical-align: middle;\n",
       "    }\n",
       "\n",
       "    .dataframe tbody tr th {\n",
       "        vertical-align: top;\n",
       "    }\n",
       "\n",
       "    .dataframe thead th {\n",
       "        text-align: right;\n",
       "    }\n",
       "</style>\n",
       "<table border=\"1\" class=\"dataframe\">\n",
       "  <thead>\n",
       "    <tr style=\"text-align: right;\">\n",
       "      <th></th>\n",
       "      <th>id</th>\n",
       "      <th>askingMemberId</th>\n",
       "      <th>askingMember</th>\n",
       "      <th>house</th>\n",
       "      <th>memberHasInterest</th>\n",
       "      <th>dateTabled</th>\n",
       "      <th>dateForAnswer</th>\n",
       "      <th>uin</th>\n",
       "      <th>questionText</th>\n",
       "      <th>answeringBodyId</th>\n",
       "      <th>answeringBodyName</th>\n",
       "      <th>heading</th>\n",
       "    </tr>\n",
       "  </thead>\n",
       "  <tbody>\n",
       "    <tr>\n",
       "      <th>0</th>\n",
       "      <td>58429</td>\n",
       "      <td>437</td>\n",
       "      <td>NaN</td>\n",
       "      <td>Commons</td>\n",
       "      <td>False</td>\n",
       "      <td>2014-06-05 00:00:00</td>\n",
       "      <td>2014-06-09T00:00:00</td>\n",
       "      <td>199151</td>\n",
       "      <td>To ask Mr Chancellor of the Exchequer, how muc...</td>\n",
       "      <td>14</td>\n",
       "      <td>HM Treasury</td>\n",
       "      <td>Working Tax Credit: Bolton</td>\n",
       "    </tr>\n",
       "    <tr>\n",
       "      <th>1</th>\n",
       "      <td>57913</td>\n",
       "      <td>4031</td>\n",
       "      <td>NaN</td>\n",
       "      <td>Commons</td>\n",
       "      <td>False</td>\n",
       "      <td>2014-06-04 00:00:00</td>\n",
       "      <td>2014-06-09T00:00:00</td>\n",
       "      <td>198956</td>\n",
       "      <td>To ask Mr Chancellor of the Exchequer, what th...</td>\n",
       "      <td>14</td>\n",
       "      <td>HM Treasury</td>\n",
       "      <td>Welfare Tax Credits</td>\n",
       "    </tr>\n",
       "    <tr>\n",
       "      <th>2</th>\n",
       "      <td>61038</td>\n",
       "      <td>4031</td>\n",
       "      <td>NaN</td>\n",
       "      <td>Commons</td>\n",
       "      <td>False</td>\n",
       "      <td>2014-06-10 00:00:00</td>\n",
       "      <td>2014-06-16T00:00:00</td>\n",
       "      <td>199850</td>\n",
       "      <td>To ask Mr Chancellor of the Exchequer, what th...</td>\n",
       "      <td>14</td>\n",
       "      <td>HM Treasury</td>\n",
       "      <td>Welfare Tax Credits</td>\n",
       "    </tr>\n",
       "    <tr>\n",
       "      <th>3</th>\n",
       "      <td>64002</td>\n",
       "      <td>163</td>\n",
       "      <td>NaN</td>\n",
       "      <td>Commons</td>\n",
       "      <td>False</td>\n",
       "      <td>2014-06-25 00:00:00</td>\n",
       "      <td>2014-06-30T00:00:00</td>\n",
       "      <td>202509</td>\n",
       "      <td>To ask Mr Chancellor of the Exchequer, how man...</td>\n",
       "      <td>14</td>\n",
       "      <td>HM Treasury</td>\n",
       "      <td>Welfare Tax Credits: Self-employed</td>\n",
       "    </tr>\n",
       "    <tr>\n",
       "      <th>4</th>\n",
       "      <td>64577</td>\n",
       "      <td>385</td>\n",
       "      <td>NaN</td>\n",
       "      <td>Commons</td>\n",
       "      <td>False</td>\n",
       "      <td>2014-06-27 00:00:00</td>\n",
       "      <td>2014-07-01T00:00:00</td>\n",
       "      <td>202934</td>\n",
       "      <td>To ask Mr Chancellor of the Exchequer, how man...</td>\n",
       "      <td>14</td>\n",
       "      <td>HM Treasury</td>\n",
       "      <td>Welfare Tax Credits: York</td>\n",
       "    </tr>\n",
       "  </tbody>\n",
       "</table>\n",
       "</div>"
      ],
      "text/plain": [
       "      id  askingMemberId  askingMember    house  memberHasInterest  \\\n",
       "0  58429             437           NaN  Commons              False   \n",
       "1  57913            4031           NaN  Commons              False   \n",
       "2  61038            4031           NaN  Commons              False   \n",
       "3  64002             163           NaN  Commons              False   \n",
       "4  64577             385           NaN  Commons              False   \n",
       "\n",
       "            dateTabled        dateForAnswer     uin  \\\n",
       "0  2014-06-05 00:00:00  2014-06-09T00:00:00  199151   \n",
       "1  2014-06-04 00:00:00  2014-06-09T00:00:00  198956   \n",
       "2  2014-06-10 00:00:00  2014-06-16T00:00:00  199850   \n",
       "3  2014-06-25 00:00:00  2014-06-30T00:00:00  202509   \n",
       "4  2014-06-27 00:00:00  2014-07-01T00:00:00  202934   \n",
       "\n",
       "                                        questionText  answeringBodyId  \\\n",
       "0  To ask Mr Chancellor of the Exchequer, how muc...               14   \n",
       "1  To ask Mr Chancellor of the Exchequer, what th...               14   \n",
       "2  To ask Mr Chancellor of the Exchequer, what th...               14   \n",
       "3  To ask Mr Chancellor of the Exchequer, how man...               14   \n",
       "4  To ask Mr Chancellor of the Exchequer, how man...               14   \n",
       "\n",
       "  answeringBodyName                             heading  \n",
       "0       HM Treasury          Working Tax Credit: Bolton  \n",
       "1       HM Treasury                 Welfare Tax Credits  \n",
       "2       HM Treasury                 Welfare Tax Credits  \n",
       "3       HM Treasury  Welfare Tax Credits: Self-employed  \n",
       "4       HM Treasury           Welfare Tax Credits: York  "
      ]
     },
     "execution_count": 16,
     "metadata": {},
     "output_type": "execute_result"
    }
   ],
   "source": [
    "df.head()"
   ]
  },
  {
   "cell_type": "code",
   "execution_count": 15,
   "metadata": {},
   "outputs": [
    {
     "data": {
      "text/plain": [
       "[\"To ask Her Majesty's Government how many football banning orders have been issued in each of the past of the five years for football supporters found guilty of racially or religiously aggravated public order offences.\",\n",
       " 'To ask Her Majesty’s Government why the Planning Inspectorate invited comments from the applicant and interested parties regarding the Swansea Bay Lagoon Application (EN010049), including the consideration of alternatives to the proposed lagoon project, b',\n",
       " 'To ask Her Majesty’s Government whether their representatives at the IMF and other international financial institutions will make clear that international financial assistance should not be made available to the government of Zimbabwe unless and until it ',\n",
       " \"Her Majesty's Government what is the procedure for freelance public service interpreters and translators to apply for clearance from the Disclosure and Barring Service\",\n",
       " \"To ask Her Majesty's Government what assessment they have made of the simultaneous protests and demonstrations in Egypt and Iraq, the latter of which has resulted in 100 civilian deaths.\",\n",
       " \"To ask Her Majesty's Government what plans they have, if any, to include election funding within the scope of the proposed Constitution, Democracy and Rights Commission.\",\n",
       " \"To ask Her Majesty's Government what assessment they have made of the ability of the NHS neurological workforce to meet the care needs of those living with neurological conditions.\"]"
      ]
     },
     "execution_count": 15,
     "metadata": {},
     "output_type": "execute_result"
    }
   ],
   "source": [
    "df[df.uin == 'HL36'].questionText.tolist()"
   ]
  },
  {
   "cell_type": "code",
   "execution_count": null,
   "metadata": {},
   "outputs": [],
   "source": []
  }
 ],
 "metadata": {
  "interpreter": {
   "hash": "3b2671318a3efe4055efb57053d632fc866729572eb9ca426a28693e94fabcea"
  },
  "kernelspec": {
   "display_name": "Python 3.7.10 ('tf')",
   "language": "python",
   "name": "python3"
  },
  "language_info": {
   "codemirror_mode": {
    "name": "ipython",
    "version": 3
   },
   "file_extension": ".py",
   "mimetype": "text/x-python",
   "name": "python",
   "nbconvert_exporter": "python",
   "pygments_lexer": "ipython3",
   "version": "3.7.10"
  },
  "orig_nbformat": 4
 },
 "nbformat": 4,
 "nbformat_minor": 2
}
